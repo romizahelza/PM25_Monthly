# PM25_IDW_Run.ipynb

"""
Notebook ini dirancang untuk dijalankan di GitHub Codespaces. 
Mengambil data NetCDF dan SHP dari Google Drive menggunakan `gdown`.
Hasil disimpan ke dalam repository.
"""

import os
import sys
from pathlib import Path
import gdown
import shutil

# Install dependencies
!pip install -q gdown geopandas netCDF4 rasterio shapely pyproj scikit-learn

# Setup paths
base_dir = Path.cwd()
data_dir = base_dir / "data"
data_dir.mkdir(exist_ok=True)

# Google Drive folder IDs
shp_drive_id = "1NHhAml7ANGbHGf6XPaJYuvylXMTDjDXK"
nc_drive_id = "152ADBAVlhMKDwEEEhf_VK0miF_RZS3Qv"

# Function to download and extract folders from Google Drive
def download_folder_from_gdrive(folder_id, output):
    try:
        gdown.download_folder(f"https://drive.google.com/drive/folders/{folder_id}", output=output, quiet=False, use_cookies=False)
    except Exception as e:
        print(f"[ERROR] Failed to download folder {folder_id}: {e}")

# Download SHP and NetCDF folders
download_folder_from_gdrive(shp_drive_id, str(data_dir))
download_folder_from_gdrive(nc_drive_id, str(data_dir))

# Verifikasi file
shp_files = list(data_dir.glob("*.shp"))
nc_files = list(data_dir.glob("*.nc"))

print("📂 SHP Files Found:", shp_files)
print("📂 NetCDF Files Found:", nc_files)

# --- Load and run processing script ---
sys.path.append(str(base_dir))
from PM25_IDW import process_pm25_all_month

# Ambil file pertama yang ditemukan (jika ada)
if not shp_files or not nc_files:
    raise FileNotFoundError("SHP atau NetCDF belum ditemukan di folder 'data'")

kabupaten_path = shp_files[0]
nc_path = nc_files[0]
output_path = base_dir / "result_output.csv"

print(f"🔧 Processing file:\n  SHP: {kabupaten_path.name}\n  NC: {nc_path.name}")
process_pm25_all_month(str(nc_path), str(kabupaten_path), str(output_path))

print(f"✅ Hasil disimpan di: {output_path}")
